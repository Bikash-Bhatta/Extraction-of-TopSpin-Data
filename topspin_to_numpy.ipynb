{
 "cells": [
  {
   "cell_type": "code",
   "execution_count": null,
   "id": "3e420515",
   "metadata": {},
   "outputs": [],
   "source": [
    "import numpy as np\n",
    "import matplotlib.pyplot as plt   \n",
    "import os "
   ]
  },
  {
   "cell_type": "code",
   "execution_count": null,
   "id": "b23cc688",
   "metadata": {},
   "outputs": [],
   "source": [
    "byte_order = 0 # Set the byte order according to the data. 0 for little endian, 1 for big endian.\n",
    "input_file = 'path' # Specify the path to the binary file\n",
    "# Make sure it's a 1D numpy array of type int32, matching the original data type\n",
    "\n",
    "if byte_order == 0:\n",
    "    # If the byte order is little endian, use '<' in dtype\n",
    "    dtype = '<i4'\n",
    "elif byte_order == 1:\n",
    "    # If the byte order is big endian, use '>' in dtype\n",
    "    dtype = '>i4'\n",
    "\n",
    "# Converting binary file to a numpy array\n",
    "with open(input_file, 'rb') as input_serial_file: \n",
    "    raw_data = np.frombuffer(input_serial_file.read(), dtype=dtype)\n",
    "raw_data.shape"
   ]
  },
  {
   "cell_type": "markdown",
   "id": "4b887dee",
   "metadata": {},
   "source": [
    "Converting the binary data to numpy array"
   ]
  },
  {
   "cell_type": "code",
   "execution_count": null,
   "id": "20072e19",
   "metadata": {},
   "outputs": [],
   "source": [
    "dtype = '<i4'\n",
    "def data_gen(in_r, in_i):\n",
    "    with open(in_r, 'rb') as input_serial_file: \n",
    "        raw_data_r = np.frombuffer(input_serial_file.read(), dtype=dtype)\n",
    "    with open(in_i, 'rb') as input_serial_file:\n",
    "        raw_data_i = np.frombuffer(input_serial_file.read(), dtype=dtype)\n",
    "\n",
    "    raw_data = raw_data_r + 1j * raw_data_i\n",
    "    return np.array(raw_data)\n",
    "\n",
    "it = \"path to your binary data\"  # Replace with the actual path to your data directory\n",
    "in_rt = os.path.join(it, '1r')\n",
    "in_it = os.path.join(it, '1i')\n",
    "\n",
    "target = data_gen(in_rt, in_it)\n",
    "\n",
    "target.shape"
   ]
  },
  {
   "cell_type": "markdown",
   "id": "24d4e5dd",
   "metadata": {},
   "source": [
    "Plotting the data"
   ]
  },
  {
   "cell_type": "code",
   "execution_count": null,
   "id": "f4c2df64",
   "metadata": {},
   "outputs": [],
   "source": [
    "plt.figure(figsize=(12, 8))\n",
    "plt.plot(np.real(target))"
   ]
  }
 ],
 "metadata": {
  "language_info": {
   "name": "python"
  }
 },
 "nbformat": 4,
 "nbformat_minor": 5
}
